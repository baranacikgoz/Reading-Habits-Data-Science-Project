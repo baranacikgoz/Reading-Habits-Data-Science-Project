{
 "cells": [
  {
   "cell_type": "markdown",
   "metadata": {},
   "source": [
    "# Proje\n",
    "\n",
    "Bu projeyi veribilimi ve makine öğrenmesi alanında öğrendiklerimi kendi üzerimde uygulamak için yapıyorum.\n",
    "\n",
    "## Amaç\n",
    "\n",
    "* Verisetini işlenebilir hale getirdikten sonra makineye öğretip; hangi saatlerde daha verimli okuma yaptığımı, hangi saatlerde yazdığım özetin sayfa sayısına oranla daha uzun olduğunu, hangi kitapları beğenip beğenmediğimi, en çok hangi yazarların kitaplarında vakit geçirdiğimi, önceki verilere dayanarak saat bilgisi eksik olan okumalarımın saatlerinin ne olabileceği ve daha birçok soruyu veri bilimi ve makine öğrenmesi kullanarak bilgisayarın cevaplamasını sağlamak."
   ]
  },
  {
   "cell_type": "markdown",
   "metadata": {},
   "source": [
    "# Veriseti Hikayesi\n",
    "\n",
    "Bu veriseti, benim kitap okurken çeşitli verileri defterime kaydedip sonra da excele almama dayanır.\n",
    "\n",
    "* date = Okumanın tarihi\n",
    "\n",
    "* start_time = Okumaya başladığım saat\n",
    "\n",
    "* finish_time = Okumayı bitirdiğim saat\n",
    "\n",
    "* writer = Okuduğum kitabın yazarı\n",
    "\n",
    "* book = Kitabın adı\n",
    "\n",
    "* start_page = Okumaya başladığım sayfanın sayısı\n",
    "\n",
    "* finish_page = Okumayı bitidiğim sayfanın sayısı\n",
    "\n",
    "* summary_size = Okuduğum sayfa aralıklarını değerlendirip yazdığım özet ya da çıkarımların kelime sayısı\n",
    "\n",
    "* is_section_liked = Okuduğum aralığı beğendim mi ? 0=Hayır, 1=Evet\n",
    "\n"
   ]
  }
 ],
 "metadata": {
  "kernelspec": {
   "display_name": "Python 3",
   "language": "python",
   "name": "python3"
  },
  "language_info": {
   "codemirror_mode": {
    "name": "ipython",
    "version": 3
   },
   "file_extension": ".py",
   "mimetype": "text/x-python",
   "name": "python",
   "nbconvert_exporter": "python",
   "pygments_lexer": "ipython3",
   "version": "3.7.6"
  }
 },
 "nbformat": 4,
 "nbformat_minor": 4
}
