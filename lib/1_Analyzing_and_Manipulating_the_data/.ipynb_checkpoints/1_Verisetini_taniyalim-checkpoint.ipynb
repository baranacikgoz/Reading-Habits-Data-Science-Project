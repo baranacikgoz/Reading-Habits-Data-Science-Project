{
 "cells": [
  {
   "cell_type": "markdown",
   "metadata": {},
   "source": [
    "## Verisetini tanıyalım, gözlem yapalım"
   ]
  },
  {
   "cell_type": "markdown",
   "metadata": {},
   "source": [
    "# Veriseti Hikayesi\n",
    "\n",
    "Bu veriseti, benim kitap okurken çeşitli verileri defterime kaydedip sonra da excele almama dayanır.\n",
    "\n",
    "* date = Okumanın tarihi\n",
    "\n",
    "* start_time = Okumaya başladığım saat\n",
    "\n",
    "* finish_time = Okumayı bitirdiğim saat\n",
    "\n",
    "* writer = Okuduğum kitabın yazarı\n",
    "\n",
    "* book = Kitabın adı\n",
    "\n",
    "* start_page = Okumaya başladığım sayfanın sayısı\n",
    "\n",
    "* finish_page = Okumayı bitidiğim sayfanın sayısı\n",
    "\n",
    "* summary_size = Okuduğum sayfa aralıklarını değerlendirip yazdığım özet ya da çıkarımların kelime sayısı\n",
    "\n",
    "* is_section_liked = Okuduğum aralığı beğendim mi ? 0=Hayır, 1=Evet\n",
    "\n"
   ]
  },
  {
   "cell_type": "code",
   "execution_count": 2,
   "metadata": {},
   "outputs": [],
   "source": [
    "import pandas as pd"
   ]
  },
  {
   "cell_type": "code",
   "execution_count": 3,
   "metadata": {},
   "outputs": [],
   "source": [
    "my_readings = pd.read_excel(\"/home/baran/Software/Studies/Data-Science&Machine-Learning-Studies/Reading-Habits-Project/assets/My_readings.xlsx\")\n",
    "df = my_readings.copy()"
   ]
  },
  {
   "cell_type": "code",
   "execution_count": 4,
   "metadata": {},
   "outputs": [
    {
     "data": {
      "text/html": [
       "<div>\n",
       "<style scoped>\n",
       "    .dataframe tbody tr th:only-of-type {\n",
       "        vertical-align: middle;\n",
       "    }\n",
       "\n",
       "    .dataframe tbody tr th {\n",
       "        vertical-align: top;\n",
       "    }\n",
       "\n",
       "    .dataframe thead th {\n",
       "        text-align: right;\n",
       "    }\n",
       "</style>\n",
       "<table border=\"1\" class=\"dataframe\">\n",
       "  <thead>\n",
       "    <tr style=\"text-align: right;\">\n",
       "      <th></th>\n",
       "      <th>date</th>\n",
       "      <th>start_time</th>\n",
       "      <th>finish_time</th>\n",
       "      <th>writer</th>\n",
       "      <th>book</th>\n",
       "      <th>kind</th>\n",
       "      <th>start_page</th>\n",
       "      <th>finish_page</th>\n",
       "      <th>summary_size</th>\n",
       "      <th>is_section_liked</th>\n",
       "    </tr>\n",
       "  </thead>\n",
       "  <tbody>\n",
       "    <tr>\n",
       "      <th>0</th>\n",
       "      <td>2020-05-03</td>\n",
       "      <td>15:00:00</td>\n",
       "      <td>15:45:00</td>\n",
       "      <td>J.P. Sartre</td>\n",
       "      <td>Bulanti</td>\n",
       "      <td>felsefik</td>\n",
       "      <td>15.0</td>\n",
       "      <td>38.0</td>\n",
       "      <td>68.0</td>\n",
       "      <td>1</td>\n",
       "    </tr>\n",
       "    <tr>\n",
       "      <th>1</th>\n",
       "      <td>2020-03-09</td>\n",
       "      <td>17:00:00</td>\n",
       "      <td>18:00:00</td>\n",
       "      <td>J.P. Sartre</td>\n",
       "      <td>Bulanti</td>\n",
       "      <td>felsefik</td>\n",
       "      <td>39.0</td>\n",
       "      <td>75.0</td>\n",
       "      <td>73.0</td>\n",
       "      <td>1</td>\n",
       "    </tr>\n",
       "    <tr>\n",
       "      <th>2</th>\n",
       "      <td>2020-03-11</td>\n",
       "      <td>19:00:00</td>\n",
       "      <td>20:00:00</td>\n",
       "      <td>J.P. Sartre</td>\n",
       "      <td>Bulanti</td>\n",
       "      <td>felsefik</td>\n",
       "      <td>75.0</td>\n",
       "      <td>105.0</td>\n",
       "      <td>50.0</td>\n",
       "      <td>1</td>\n",
       "    </tr>\n",
       "    <tr>\n",
       "      <th>3</th>\n",
       "      <td>2020-03-11</td>\n",
       "      <td>20:10:00</td>\n",
       "      <td>20:40:00</td>\n",
       "      <td>Thomas More</td>\n",
       "      <td>Utopya</td>\n",
       "      <td>utopik</td>\n",
       "      <td>3.0</td>\n",
       "      <td>26.0</td>\n",
       "      <td>91.0</td>\n",
       "      <td>1</td>\n",
       "    </tr>\n",
       "    <tr>\n",
       "      <th>4</th>\n",
       "      <td>2020-03-22</td>\n",
       "      <td>18:00:00</td>\n",
       "      <td>19:00:00</td>\n",
       "      <td>J.P. Sartre</td>\n",
       "      <td>Bulanti</td>\n",
       "      <td>felsefik</td>\n",
       "      <td>106.0</td>\n",
       "      <td>134.0</td>\n",
       "      <td>27.0</td>\n",
       "      <td>1</td>\n",
       "    </tr>\n",
       "  </tbody>\n",
       "</table>\n",
       "</div>"
      ],
      "text/plain": [
       "        date start_time finish_time       writer     book      kind  \\\n",
       "0 2020-05-03   15:00:00    15:45:00  J.P. Sartre  Bulanti  felsefik   \n",
       "1 2020-03-09   17:00:00    18:00:00  J.P. Sartre  Bulanti  felsefik   \n",
       "2 2020-03-11   19:00:00    20:00:00  J.P. Sartre  Bulanti  felsefik   \n",
       "3 2020-03-11   20:10:00    20:40:00  Thomas More   Utopya    utopik   \n",
       "4 2020-03-22   18:00:00    19:00:00  J.P. Sartre  Bulanti  felsefik   \n",
       "\n",
       "   start_page  finish_page  summary_size  is_section_liked  \n",
       "0        15.0         38.0          68.0                 1  \n",
       "1        39.0         75.0          73.0                 1  \n",
       "2        75.0        105.0          50.0                 1  \n",
       "3         3.0         26.0          91.0                 1  \n",
       "4       106.0        134.0          27.0                 1  "
      ]
     },
     "execution_count": 4,
     "metadata": {},
     "output_type": "execute_result"
    }
   ],
   "source": [
    "df.head() #veriseti hakkinda ilk 5 gozlem"
   ]
  },
  {
   "cell_type": "code",
   "execution_count": 5,
   "metadata": {},
   "outputs": [
    {
     "name": "stdout",
     "output_type": "stream",
     "text": [
      "<class 'pandas.core.frame.DataFrame'>\n",
      "RangeIndex: 35 entries, 0 to 34\n",
      "Data columns (total 10 columns):\n",
      " #   Column            Non-Null Count  Dtype         \n",
      "---  ------            --------------  -----         \n",
      " 0   date              35 non-null     datetime64[ns]\n",
      " 1   start_time        35 non-null     object        \n",
      " 2   finish_time       35 non-null     object        \n",
      " 3   writer            35 non-null     object        \n",
      " 4   book              35 non-null     object        \n",
      " 5   kind              35 non-null     object        \n",
      " 6   start_page        32 non-null     float64       \n",
      " 7   finish_page       32 non-null     float64       \n",
      " 8   summary_size      32 non-null     float64       \n",
      " 9   is_section_liked  35 non-null     int64         \n",
      "dtypes: datetime64[ns](1), float64(3), int64(1), object(5)\n",
      "memory usage: 2.9+ KB\n"
     ]
    }
   ],
   "source": [
    "df.info() # verisetimizin özellikleri"
   ]
  },
  {
   "cell_type": "code",
   "execution_count": 6,
   "metadata": {},
   "outputs": [
    {
     "data": {
      "text/plain": [
       "(35, 10)"
      ]
     },
     "execution_count": 6,
     "metadata": {},
     "output_type": "execute_result"
    }
   ],
   "source": [
    "df.shape #verisetimizin gözlem ve değişken sayisi"
   ]
  },
  {
   "cell_type": "code",
   "execution_count": 7,
   "metadata": {},
   "outputs": [
    {
     "data": {
      "text/plain": [
       "date                datetime64[ns]\n",
       "start_time                  object\n",
       "finish_time                 object\n",
       "writer                      object\n",
       "book                        object\n",
       "kind                        object\n",
       "start_page                 float64\n",
       "finish_page                float64\n",
       "summary_size               float64\n",
       "is_section_liked             int64\n",
       "dtype: object"
      ]
     },
     "execution_count": 7,
     "metadata": {},
     "output_type": "execute_result"
    }
   ],
   "source": [
    "df.dtypes #verisetimizdeki değişkenlerin türü"
   ]
  },
  {
   "cell_type": "code",
   "execution_count": 8,
   "metadata": {},
   "outputs": [
    {
     "data": {
      "text/html": [
       "<div>\n",
       "<style scoped>\n",
       "    .dataframe tbody tr th:only-of-type {\n",
       "        vertical-align: middle;\n",
       "    }\n",
       "\n",
       "    .dataframe tbody tr th {\n",
       "        vertical-align: top;\n",
       "    }\n",
       "\n",
       "    .dataframe thead th {\n",
       "        text-align: right;\n",
       "    }\n",
       "</style>\n",
       "<table border=\"1\" class=\"dataframe\">\n",
       "  <thead>\n",
       "    <tr style=\"text-align: right;\">\n",
       "      <th></th>\n",
       "      <th>count</th>\n",
       "      <th>mean</th>\n",
       "      <th>std</th>\n",
       "      <th>min</th>\n",
       "      <th>25%</th>\n",
       "      <th>50%</th>\n",
       "      <th>75%</th>\n",
       "      <th>max</th>\n",
       "    </tr>\n",
       "  </thead>\n",
       "  <tbody>\n",
       "    <tr>\n",
       "      <th>start_page</th>\n",
       "      <td>32.0</td>\n",
       "      <td>102.093750</td>\n",
       "      <td>88.524594</td>\n",
       "      <td>1.0</td>\n",
       "      <td>35.00</td>\n",
       "      <td>73.0</td>\n",
       "      <td>155.00</td>\n",
       "      <td>335.0</td>\n",
       "    </tr>\n",
       "    <tr>\n",
       "      <th>finish_page</th>\n",
       "      <td>32.0</td>\n",
       "      <td>126.718750</td>\n",
       "      <td>92.404173</td>\n",
       "      <td>15.0</td>\n",
       "      <td>58.00</td>\n",
       "      <td>103.5</td>\n",
       "      <td>173.75</td>\n",
       "      <td>381.0</td>\n",
       "    </tr>\n",
       "    <tr>\n",
       "      <th>summary_size</th>\n",
       "      <td>32.0</td>\n",
       "      <td>31.281250</td>\n",
       "      <td>19.503903</td>\n",
       "      <td>0.0</td>\n",
       "      <td>19.75</td>\n",
       "      <td>27.0</td>\n",
       "      <td>40.00</td>\n",
       "      <td>91.0</td>\n",
       "    </tr>\n",
       "    <tr>\n",
       "      <th>is_section_liked</th>\n",
       "      <td>35.0</td>\n",
       "      <td>0.914286</td>\n",
       "      <td>0.284029</td>\n",
       "      <td>0.0</td>\n",
       "      <td>1.00</td>\n",
       "      <td>1.0</td>\n",
       "      <td>1.00</td>\n",
       "      <td>1.0</td>\n",
       "    </tr>\n",
       "  </tbody>\n",
       "</table>\n",
       "</div>"
      ],
      "text/plain": [
       "                  count        mean        std   min    25%    50%     75%  \\\n",
       "start_page         32.0  102.093750  88.524594   1.0  35.00   73.0  155.00   \n",
       "finish_page        32.0  126.718750  92.404173  15.0  58.00  103.5  173.75   \n",
       "summary_size       32.0   31.281250  19.503903   0.0  19.75   27.0   40.00   \n",
       "is_section_liked   35.0    0.914286   0.284029   0.0   1.00    1.0    1.00   \n",
       "\n",
       "                    max  \n",
       "start_page        335.0  \n",
       "finish_page       381.0  \n",
       "summary_size       91.0  \n",
       "is_section_liked    1.0  "
      ]
     },
     "execution_count": 8,
     "metadata": {},
     "output_type": "execute_result"
    }
   ],
   "source": [
    "df.describe().T # sayısal değerlerin özellikleri"
   ]
  },
  {
   "cell_type": "code",
   "execution_count": 9,
   "metadata": {},
   "outputs": [
    {
     "data": {
      "text/plain": [
       "True"
      ]
     },
     "execution_count": 9,
     "metadata": {},
     "output_type": "execute_result"
    }
   ],
   "source": [
    "#hiç eksik gözlem(değer) var mı\n",
    "df.isnull().values.any()"
   ]
  },
  {
   "cell_type": "code",
   "execution_count": 10,
   "metadata": {},
   "outputs": [
    {
     "data": {
      "text/plain": [
       "date                0\n",
       "start_time          0\n",
       "finish_time         0\n",
       "writer              0\n",
       "book                0\n",
       "kind                0\n",
       "start_page          3\n",
       "finish_page         3\n",
       "summary_size        3\n",
       "is_section_liked    0\n",
       "dtype: int64"
      ]
     },
     "execution_count": 10,
     "metadata": {},
     "output_type": "execute_result"
    }
   ],
   "source": [
    "#hangi değişkende kaçar tane var\n",
    "df.isnull().sum()"
   ]
  },
  {
   "cell_type": "code",
   "execution_count": null,
   "metadata": {},
   "outputs": [],
   "source": []
  }
 ],
 "metadata": {
  "kernelspec": {
   "display_name": "Python 3",
   "language": "python",
   "name": "python3"
  },
  "language_info": {
   "codemirror_mode": {
    "name": "ipython",
    "version": 3
   },
   "file_extension": ".py",
   "mimetype": "text/x-python",
   "name": "python",
   "nbconvert_exporter": "python",
   "pygments_lexer": "ipython3",
   "version": "3.7.6"
  }
 },
 "nbformat": 4,
 "nbformat_minor": 4
}
