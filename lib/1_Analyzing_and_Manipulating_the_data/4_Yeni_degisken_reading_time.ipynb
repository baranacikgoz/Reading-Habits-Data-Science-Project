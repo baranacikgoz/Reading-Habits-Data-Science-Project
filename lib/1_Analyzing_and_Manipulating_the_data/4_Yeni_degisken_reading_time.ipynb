{
 "cells": [
  {
   "cell_type": "markdown",
   "metadata": {},
   "source": [
    "### Önceki veriler ile kaç dakika kitap okuduğumu gösteren yeni bir değişken oluşturup dataframe'e sütun olarak ekleyelim\n"
   ]
  },
  {
   "cell_type": "code",
   "execution_count": 1,
   "metadata": {
    "collapsed": true,
    "jupyter": {
     "outputs_hidden": true
    }
   },
   "outputs": [
    {
     "name": "stdout",
     "output_type": "stream",
     "text": [
      "<class 'pandas.core.frame.DataFrame'>\n",
      "RangeIndex: 35 entries, 0 to 34\n",
      "Data columns (total 10 columns):\n",
      " #   Column            Non-Null Count  Dtype         \n",
      "---  ------            --------------  -----         \n",
      " 0   date              35 non-null     datetime64[ns]\n",
      " 1   start_time        35 non-null     object        \n",
      " 2   finish_time       35 non-null     object        \n",
      " 3   writer            35 non-null     object        \n",
      " 4   book              35 non-null     object        \n",
      " 5   kind              35 non-null     object        \n",
      " 6   start_page        32 non-null     float64       \n",
      " 7   finish_page       32 non-null     float64       \n",
      " 8   summary_size      32 non-null     float64       \n",
      " 9   is_section_liked  35 non-null     int64         \n",
      "dtypes: datetime64[ns](1), float64(3), int64(1), object(5)\n",
      "memory usage: 2.9+ KB\n"
     ]
    }
   ],
   "source": [
    "%run ../1_Analyzing_and_Manipulating_the_data/3_Yeni_degisken_reading_pages.ipynb"
   ]
  },
  {
   "cell_type": "markdown",
   "metadata": {},
   "source": [
    "Şimdi finish_time dan start_time ı çıkararak kaç dakika okuduğumu bulmak istiyorum."
   ]
  },
  {
   "cell_type": "code",
   "execution_count": 2,
   "metadata": {},
   "outputs": [],
   "source": [
    "#df[\"finish_time\"] - df[\"start_time\"]   Hata veren kod.\n",
    "\n",
    "# Datetime.time objeleri arasında çıkartma işlemi yapmıyor, hata veriyor."
   ]
  },
  {
   "cell_type": "markdown",
   "metadata": {},
   "source": [
    "------\n",
    "Bahsettiğim çıkartmayı yapabilmek için başta tipi datetime.time olan \"start_time\" ve \"finish_time\"ı datetime'a çevirmem gerektiğini düşündüm niye böyle düşündüm bilmiyorum ancak hiç gerek yokmuş yine de hatamı silmiyorum kalsın ders alalım :)"
   ]
  },
  {
   "cell_type": "code",
   "execution_count": 3,
   "metadata": {},
   "outputs": [],
   "source": [
    "# Bahsettiğim hatam\n",
    "\n",
    "# df['start_time'] = pd.to_datetime(df['start_time'])"
   ]
  },
  {
   "cell_type": "markdown",
   "metadata": {},
   "source": [
    "---\n",
    "\n",
    "Sonrasında şu combine fonksiyonunu buldum, datetime.time'ı tek başına birbirinden çıkaramıyormuşuz, ilk başta gün ve saat olarak birleştirmek gerekiyor ve saat olarak değerleri kaymasın diye ikisine de, sonradan çıkarırken birbirlerini sıfırlasın diye aynı gün tarihini veriyoruz (date.today())."
   ]
  },
  {
   "cell_type": "code",
   "execution_count": 4,
   "metadata": {},
   "outputs": [],
   "source": [
    "from datetime import datetime\n",
    "\n",
    "## datetime.combine(date.today(), df[\"finish_time\"]) - datetime.combine(date.today(), df[\"start_time\"])"
   ]
  },
  {
   "cell_type": "markdown",
   "metadata": {},
   "source": [
    "df[\"finish_time\"] ya da df[\"start_ time\"] diyerek direkt olarak dizi olan, dataframe sütunu ile işlem yapmaya kalktık kabul etmedi, bu yüzden dataframein o sütunlarının tek tek satırlarıyla işlem yapmak gerekiyor yani df[finish_time][5] - df[start_time][5] gibi. Bunu da aşağıdaki gibi bir fonksiyonu stackoverflow'dan bir hayırseverin yardımıyla hallettim.\n",
    "\n",
    "---"
   ]
  },
  {
   "cell_type": "markdown",
   "metadata": {},
   "source": [
    "Hemen bir üstteki kodun çalışan versiyonu"
   ]
  },
  {
   "cell_type": "code",
   "execution_count": 5,
   "metadata": {},
   "outputs": [],
   "source": [
    "from datetime import date\n",
    "\n",
    "def reading_time(df):\n",
    "       return datetime.combine(date.today(), df[\"finish_time\"]) - datetime.combine(date.today(), df[\"start_time\"])\n",
    "\n",
    "df['reading_time'] = df.apply(reading_time, axis=1)"
   ]
  },
  {
   "cell_type": "code",
   "execution_count": 7,
   "metadata": {},
   "outputs": [
    {
     "data": {
      "text/html": [
       "<div>\n",
       "<style scoped>\n",
       "    .dataframe tbody tr th:only-of-type {\n",
       "        vertical-align: middle;\n",
       "    }\n",
       "\n",
       "    .dataframe tbody tr th {\n",
       "        vertical-align: top;\n",
       "    }\n",
       "\n",
       "    .dataframe thead th {\n",
       "        text-align: right;\n",
       "    }\n",
       "</style>\n",
       "<table border=\"1\" class=\"dataframe\">\n",
       "  <thead>\n",
       "    <tr style=\"text-align: right;\">\n",
       "      <th></th>\n",
       "      <th>date</th>\n",
       "      <th>start_time</th>\n",
       "      <th>finish_time</th>\n",
       "      <th>writer</th>\n",
       "      <th>book</th>\n",
       "      <th>kind</th>\n",
       "      <th>start_page</th>\n",
       "      <th>finish_page</th>\n",
       "      <th>summary_size</th>\n",
       "      <th>is_section_liked</th>\n",
       "      <th>read_pages</th>\n",
       "      <th>reading_time</th>\n",
       "    </tr>\n",
       "  </thead>\n",
       "  <tbody>\n",
       "    <tr>\n",
       "      <th>0</th>\n",
       "      <td>2020-05-03</td>\n",
       "      <td>15:00:00</td>\n",
       "      <td>15:45:00</td>\n",
       "      <td>J.P. Sartre</td>\n",
       "      <td>Bulanti</td>\n",
       "      <td>felsefik</td>\n",
       "      <td>15</td>\n",
       "      <td>38</td>\n",
       "      <td>68</td>\n",
       "      <td>True</td>\n",
       "      <td>23</td>\n",
       "      <td>00:45:00</td>\n",
       "    </tr>\n",
       "    <tr>\n",
       "      <th>1</th>\n",
       "      <td>2020-03-09</td>\n",
       "      <td>17:00:00</td>\n",
       "      <td>18:00:00</td>\n",
       "      <td>J.P. Sartre</td>\n",
       "      <td>Bulanti</td>\n",
       "      <td>felsefik</td>\n",
       "      <td>39</td>\n",
       "      <td>75</td>\n",
       "      <td>73</td>\n",
       "      <td>True</td>\n",
       "      <td>36</td>\n",
       "      <td>01:00:00</td>\n",
       "    </tr>\n",
       "    <tr>\n",
       "      <th>2</th>\n",
       "      <td>2020-03-11</td>\n",
       "      <td>19:00:00</td>\n",
       "      <td>20:00:00</td>\n",
       "      <td>J.P. Sartre</td>\n",
       "      <td>Bulanti</td>\n",
       "      <td>felsefik</td>\n",
       "      <td>75</td>\n",
       "      <td>105</td>\n",
       "      <td>50</td>\n",
       "      <td>True</td>\n",
       "      <td>30</td>\n",
       "      <td>01:00:00</td>\n",
       "    </tr>\n",
       "    <tr>\n",
       "      <th>3</th>\n",
       "      <td>2020-03-11</td>\n",
       "      <td>20:10:00</td>\n",
       "      <td>20:40:00</td>\n",
       "      <td>Thomas More</td>\n",
       "      <td>Utopya</td>\n",
       "      <td>utopik</td>\n",
       "      <td>3</td>\n",
       "      <td>26</td>\n",
       "      <td>91</td>\n",
       "      <td>True</td>\n",
       "      <td>23</td>\n",
       "      <td>00:30:00</td>\n",
       "    </tr>\n",
       "    <tr>\n",
       "      <th>4</th>\n",
       "      <td>2020-03-22</td>\n",
       "      <td>18:00:00</td>\n",
       "      <td>19:00:00</td>\n",
       "      <td>J.P. Sartre</td>\n",
       "      <td>Bulanti</td>\n",
       "      <td>felsefik</td>\n",
       "      <td>106</td>\n",
       "      <td>134</td>\n",
       "      <td>27</td>\n",
       "      <td>True</td>\n",
       "      <td>28</td>\n",
       "      <td>01:00:00</td>\n",
       "    </tr>\n",
       "  </tbody>\n",
       "</table>\n",
       "</div>"
      ],
      "text/plain": [
       "        date start_time finish_time       writer     book      kind  \\\n",
       "0 2020-05-03   15:00:00    15:45:00  J.P. Sartre  Bulanti  felsefik   \n",
       "1 2020-03-09   17:00:00    18:00:00  J.P. Sartre  Bulanti  felsefik   \n",
       "2 2020-03-11   19:00:00    20:00:00  J.P. Sartre  Bulanti  felsefik   \n",
       "3 2020-03-11   20:10:00    20:40:00  Thomas More   Utopya    utopik   \n",
       "4 2020-03-22   18:00:00    19:00:00  J.P. Sartre  Bulanti  felsefik   \n",
       "\n",
       "   start_page  finish_page  summary_size  is_section_liked  read_pages  \\\n",
       "0          15           38            68              True          23   \n",
       "1          39           75            73              True          36   \n",
       "2          75          105            50              True          30   \n",
       "3           3           26            91              True          23   \n",
       "4         106          134            27              True          28   \n",
       "\n",
       "  reading_time  \n",
       "0     00:45:00  \n",
       "1     01:00:00  \n",
       "2     01:00:00  \n",
       "3     00:30:00  \n",
       "4     01:00:00  "
      ]
     },
     "execution_count": 7,
     "metadata": {},
     "output_type": "execute_result"
    }
   ],
   "source": [
    "df.head()"
   ]
  },
  {
   "cell_type": "markdown",
   "metadata": {},
   "source": [
    "Görüldüğü üzere reading_time olarak kaç dk kitap okuduğum bilgisini ekledik ancak bunun tam sayı olarak dakika cinsinden olmasını istiyorum.\n",
    "\n",
    "---"
   ]
  },
  {
   "cell_type": "markdown",
   "metadata": {},
   "source": [
    "Şimdi de saat formatından integer olarak dakikaya dönsün istiyorum"
   ]
  },
  {
   "cell_type": "code",
   "execution_count": 8,
   "metadata": {},
   "outputs": [],
   "source": [
    "df[\"reading_time\"] = df[\"reading_time\"].dt.seconds.astype('int')"
   ]
  },
  {
   "cell_type": "code",
   "execution_count": 9,
   "metadata": {},
   "outputs": [
    {
     "data": {
      "text/plain": [
       "0    2700\n",
       "1    3600\n",
       "2    3600\n",
       "3    1800\n",
       "4    3600\n",
       "Name: reading_time, dtype: int64"
      ]
     },
     "execution_count": 9,
     "metadata": {},
     "output_type": "execute_result"
    }
   ],
   "source": [
    "df[\"reading_time\"].head()"
   ]
  },
  {
   "cell_type": "markdown",
   "metadata": {},
   "source": [
    "Bu sefer de saniye oldu, bu yüzden hemen aşağıda 60a bölelim.\n",
    "\n",
    "---"
   ]
  },
  {
   "cell_type": "code",
   "execution_count": 10,
   "metadata": {},
   "outputs": [
    {
     "data": {
      "text/plain": [
       "30    60.0\n",
       "31    60.0\n",
       "32    30.0\n",
       "33    30.0\n",
       "34    70.0\n",
       "Name: reading_time, dtype: float64"
      ]
     },
     "execution_count": 10,
     "metadata": {},
     "output_type": "execute_result"
    }
   ],
   "source": [
    "df[\"reading_time\"] = df[\"reading_time\"]/60\n",
    "df[\"reading_time\"].tail()"
   ]
  },
  {
   "cell_type": "code",
   "execution_count": 11,
   "metadata": {},
   "outputs": [
    {
     "data": {
      "text/html": [
       "<div>\n",
       "<style scoped>\n",
       "    .dataframe tbody tr th:only-of-type {\n",
       "        vertical-align: middle;\n",
       "    }\n",
       "\n",
       "    .dataframe tbody tr th {\n",
       "        vertical-align: top;\n",
       "    }\n",
       "\n",
       "    .dataframe thead th {\n",
       "        text-align: right;\n",
       "    }\n",
       "</style>\n",
       "<table border=\"1\" class=\"dataframe\">\n",
       "  <thead>\n",
       "    <tr style=\"text-align: right;\">\n",
       "      <th></th>\n",
       "      <th>date</th>\n",
       "      <th>start_time</th>\n",
       "      <th>finish_time</th>\n",
       "      <th>writer</th>\n",
       "      <th>book</th>\n",
       "      <th>kind</th>\n",
       "      <th>start_page</th>\n",
       "      <th>finish_page</th>\n",
       "      <th>summary_size</th>\n",
       "      <th>is_section_liked</th>\n",
       "      <th>read_pages</th>\n",
       "      <th>reading_time</th>\n",
       "    </tr>\n",
       "  </thead>\n",
       "  <tbody>\n",
       "    <tr>\n",
       "      <th>0</th>\n",
       "      <td>2020-05-03</td>\n",
       "      <td>15:00:00</td>\n",
       "      <td>15:45:00</td>\n",
       "      <td>J.P. Sartre</td>\n",
       "      <td>Bulanti</td>\n",
       "      <td>felsefik</td>\n",
       "      <td>15</td>\n",
       "      <td>38</td>\n",
       "      <td>68</td>\n",
       "      <td>True</td>\n",
       "      <td>23</td>\n",
       "      <td>45</td>\n",
       "    </tr>\n",
       "    <tr>\n",
       "      <th>1</th>\n",
       "      <td>2020-03-09</td>\n",
       "      <td>17:00:00</td>\n",
       "      <td>18:00:00</td>\n",
       "      <td>J.P. Sartre</td>\n",
       "      <td>Bulanti</td>\n",
       "      <td>felsefik</td>\n",
       "      <td>39</td>\n",
       "      <td>75</td>\n",
       "      <td>73</td>\n",
       "      <td>True</td>\n",
       "      <td>36</td>\n",
       "      <td>60</td>\n",
       "    </tr>\n",
       "    <tr>\n",
       "      <th>2</th>\n",
       "      <td>2020-03-11</td>\n",
       "      <td>19:00:00</td>\n",
       "      <td>20:00:00</td>\n",
       "      <td>J.P. Sartre</td>\n",
       "      <td>Bulanti</td>\n",
       "      <td>felsefik</td>\n",
       "      <td>75</td>\n",
       "      <td>105</td>\n",
       "      <td>50</td>\n",
       "      <td>True</td>\n",
       "      <td>30</td>\n",
       "      <td>60</td>\n",
       "    </tr>\n",
       "    <tr>\n",
       "      <th>3</th>\n",
       "      <td>2020-03-11</td>\n",
       "      <td>20:10:00</td>\n",
       "      <td>20:40:00</td>\n",
       "      <td>Thomas More</td>\n",
       "      <td>Utopya</td>\n",
       "      <td>utopik</td>\n",
       "      <td>3</td>\n",
       "      <td>26</td>\n",
       "      <td>91</td>\n",
       "      <td>True</td>\n",
       "      <td>23</td>\n",
       "      <td>30</td>\n",
       "    </tr>\n",
       "    <tr>\n",
       "      <th>4</th>\n",
       "      <td>2020-03-22</td>\n",
       "      <td>18:00:00</td>\n",
       "      <td>19:00:00</td>\n",
       "      <td>J.P. Sartre</td>\n",
       "      <td>Bulanti</td>\n",
       "      <td>felsefik</td>\n",
       "      <td>106</td>\n",
       "      <td>134</td>\n",
       "      <td>27</td>\n",
       "      <td>True</td>\n",
       "      <td>28</td>\n",
       "      <td>60</td>\n",
       "    </tr>\n",
       "  </tbody>\n",
       "</table>\n",
       "</div>"
      ],
      "text/plain": [
       "        date start_time finish_time       writer     book      kind  \\\n",
       "0 2020-05-03   15:00:00    15:45:00  J.P. Sartre  Bulanti  felsefik   \n",
       "1 2020-03-09   17:00:00    18:00:00  J.P. Sartre  Bulanti  felsefik   \n",
       "2 2020-03-11   19:00:00    20:00:00  J.P. Sartre  Bulanti  felsefik   \n",
       "3 2020-03-11   20:10:00    20:40:00  Thomas More   Utopya    utopik   \n",
       "4 2020-03-22   18:00:00    19:00:00  J.P. Sartre  Bulanti  felsefik   \n",
       "\n",
       "   start_page  finish_page  summary_size  is_section_liked  read_pages  \\\n",
       "0          15           38            68              True          23   \n",
       "1          39           75            73              True          36   \n",
       "2          75          105            50              True          30   \n",
       "3           3           26            91              True          23   \n",
       "4         106          134            27              True          28   \n",
       "\n",
       "   reading_time  \n",
       "0            45  \n",
       "1            60  \n",
       "2            60  \n",
       "3            30  \n",
       "4            60  "
      ]
     },
     "execution_count": 11,
     "metadata": {},
     "output_type": "execute_result"
    }
   ],
   "source": [
    "# Float olan reading_time'ı integer'a çevirelim\n",
    "\n",
    "df['reading_time'] = df['reading_time'].astype('int')\n",
    "df.head()"
   ]
  },
  {
   "cell_type": "code",
   "execution_count": null,
   "metadata": {},
   "outputs": [],
   "source": []
  }
 ],
 "metadata": {
  "kernelspec": {
   "display_name": "Python 3",
   "language": "python",
   "name": "python3"
  },
  "language_info": {
   "codemirror_mode": {
    "name": "ipython",
    "version": 3
   },
   "file_extension": ".py",
   "mimetype": "text/x-python",
   "name": "python",
   "nbconvert_exporter": "python",
   "pygments_lexer": "ipython3",
   "version": "3.7.6"
  }
 },
 "nbformat": 4,
 "nbformat_minor": 4
}
