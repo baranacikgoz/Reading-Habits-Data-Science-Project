{
 "cells": [
  {
   "cell_type": "code",
   "execution_count": null,
   "metadata": {},
   "outputs": [],
   "source": []
  },
  {
   "cell_type": "code",
   "execution_count": 1,
   "metadata": {
    "collapsed": true,
    "jupyter": {
     "outputs_hidden": true
    }
   },
   "outputs": [
    {
     "name": "stdout",
     "output_type": "stream",
     "text": [
      "<class 'pandas.core.frame.DataFrame'>\n",
      "RangeIndex: 35 entries, 0 to 34\n",
      "Data columns (total 10 columns):\n",
      " #   Column            Non-Null Count  Dtype         \n",
      "---  ------            --------------  -----         \n",
      " 0   date              35 non-null     datetime64[ns]\n",
      " 1   start_time        35 non-null     object        \n",
      " 2   finish_time       35 non-null     object        \n",
      " 3   writer            35 non-null     object        \n",
      " 4   book              35 non-null     object        \n",
      " 5   kind              35 non-null     object        \n",
      " 6   start_page        32 non-null     float64       \n",
      " 7   finish_page       32 non-null     float64       \n",
      " 8   summary_size      32 non-null     float64       \n",
      " 9   is_section_liked  35 non-null     int64         \n",
      "dtypes: datetime64[ns](1), float64(3), int64(1), object(5)\n",
      "memory usage: 2.9+ KB\n"
     ]
    }
   ],
   "source": [
    "%run ../1_Analyzing_and_Manipulating_the_data/7_Final.ipynb"
   ]
  },
  {
   "cell_type": "markdown",
   "metadata": {},
   "source": [
    "Veri görselleştirmeye geçmeden önce kategorik değişkenlerimizin ayrıntılarına bakalım istiyorum."
   ]
  },
  {
   "cell_type": "code",
   "execution_count": 16,
   "metadata": {},
   "outputs": [
    {
     "data": {
      "text/html": [
       "<div>\n",
       "<style scoped>\n",
       "    .dataframe tbody tr th:only-of-type {\n",
       "        vertical-align: middle;\n",
       "    }\n",
       "\n",
       "    .dataframe tbody tr th {\n",
       "        vertical-align: top;\n",
       "    }\n",
       "\n",
       "    .dataframe thead th {\n",
       "        text-align: right;\n",
       "    }\n",
       "</style>\n",
       "<table border=\"1\" class=\"dataframe\">\n",
       "  <thead>\n",
       "    <tr style=\"text-align: right;\">\n",
       "      <th></th>\n",
       "      <th>writer</th>\n",
       "      <th>book</th>\n",
       "      <th>kind</th>\n",
       "    </tr>\n",
       "  </thead>\n",
       "  <tbody>\n",
       "    <tr>\n",
       "      <th>0</th>\n",
       "      <td>J.P. Sartre</td>\n",
       "      <td>Bulanti</td>\n",
       "      <td>felsefik</td>\n",
       "    </tr>\n",
       "    <tr>\n",
       "      <th>1</th>\n",
       "      <td>J.P. Sartre</td>\n",
       "      <td>Bulanti</td>\n",
       "      <td>felsefik</td>\n",
       "    </tr>\n",
       "    <tr>\n",
       "      <th>2</th>\n",
       "      <td>J.P. Sartre</td>\n",
       "      <td>Bulanti</td>\n",
       "      <td>felsefik</td>\n",
       "    </tr>\n",
       "    <tr>\n",
       "      <th>3</th>\n",
       "      <td>Thomas More</td>\n",
       "      <td>Utopya</td>\n",
       "      <td>utopik</td>\n",
       "    </tr>\n",
       "    <tr>\n",
       "      <th>4</th>\n",
       "      <td>J.P. Sartre</td>\n",
       "      <td>Bulanti</td>\n",
       "      <td>felsefik</td>\n",
       "    </tr>\n",
       "  </tbody>\n",
       "</table>\n",
       "</div>"
      ],
      "text/plain": [
       "        writer     book      kind\n",
       "0  J.P. Sartre  Bulanti  felsefik\n",
       "1  J.P. Sartre  Bulanti  felsefik\n",
       "2  J.P. Sartre  Bulanti  felsefik\n",
       "3  Thomas More   Utopya    utopik\n",
       "4  J.P. Sartre  Bulanti  felsefik"
      ]
     },
     "execution_count": 16,
     "metadata": {},
     "output_type": "execute_result"
    }
   ],
   "source": [
    "kategorik_degiskenler = df.select_dtypes(include = [\"category\"])\n",
    "kategorik_degiskenler.head()"
   ]
  },
  {
   "cell_type": "markdown",
   "metadata": {},
   "source": [
    "3 tür kategorik değişkenimiz var; writer, book ve kind.\n",
    "\n",
    "---"
   ]
  },
  {
   "cell_type": "code",
   "execution_count": 17,
   "metadata": {},
   "outputs": [
    {
     "data": {
      "text/plain": [
       "J.P. Sartre    10\n",
       "Dostoyevski     9\n",
       "Thomas More     6\n",
       "Livaneli        6\n",
       "Platon          4\n",
       "Name: writer, dtype: int64"
      ]
     },
     "execution_count": 17,
     "metadata": {},
     "output_type": "execute_result"
    }
   ],
   "source": [
    "kategorik_degiskenler[\"writer\"].value_counts() #writer'ın frekanslarına erişmek"
   ]
  },
  {
   "cell_type": "code",
   "execution_count": 18,
   "metadata": {},
   "outputs": [
    {
     "data": {
      "text/plain": [
       "Bulanti                 10\n",
       "Suc ve Ceza              9\n",
       "Utopya                   6\n",
       "Huzursuzluk              6\n",
       "Sokratesin Savunmasi     4\n",
       "Name: book, dtype: int64"
      ]
     },
     "execution_count": 18,
     "metadata": {},
     "output_type": "execute_result"
    }
   ],
   "source": [
    "kategorik_degiskenler[\"book\"].value_counts()"
   ]
  },
  {
   "cell_type": "code",
   "execution_count": 19,
   "metadata": {},
   "outputs": [
    {
     "data": {
      "text/plain": [
       "felsefik    14\n",
       "roman        9\n",
       "utopik       6\n",
       "hikaye       6\n",
       "Name: kind, dtype: int64"
      ]
     },
     "execution_count": 19,
     "metadata": {},
     "output_type": "execute_result"
    }
   ],
   "source": [
    "kategorik_degiskenler[\"kind\"].value_counts()"
   ]
  },
  {
   "cell_type": "markdown",
   "metadata": {},
   "source": [
    "---\n",
    "# Önemli:\n",
    "Bu şekilde bakınca mesela sartreden 10 kitap, dostoyevskiden 9 kitap vesaire okumuşum gibi gözükmesin sakın, verisetimizin de hikayesini hep aklımızda tutalım. Bu veriler şu anlama geliyor; sartrenin bir kitabının ya da kitaplarının başına şuana kadar 10 defa oturup kalkmışım, ya da Suc ve Ceza'nın başına 9 kere oturup kalkmışım, 14 defa felsefik bir kitap ya da kitapların başına oturup kalkmışım."
   ]
  }
 ],
 "metadata": {
  "kernelspec": {
   "display_name": "Python 3",
   "language": "python",
   "name": "python3"
  },
  "language_info": {
   "codemirror_mode": {
    "name": "ipython",
    "version": 3
   },
   "file_extension": ".py",
   "mimetype": "text/x-python",
   "name": "python",
   "nbconvert_exporter": "python",
   "pygments_lexer": "ipython3",
   "version": "3.7.6"
  }
 },
 "nbformat": 4,
 "nbformat_minor": 4
}
