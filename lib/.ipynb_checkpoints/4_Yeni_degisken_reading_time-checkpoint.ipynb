{
 "cells": [
  {
   "cell_type": "markdown",
   "metadata": {},
   "source": [
    "### Önceki veriler ile kaç dakika kitap okuduğumu gösteren yeni bir değişken oluşturup dataframe'e sütun olarak ekleyelim\n"
   ]
  },
  {
   "cell_type": "code",
   "execution_count": 24,
   "metadata": {
    "collapsed": true,
    "jupyter": {
     "outputs_hidden": true
    }
   },
   "outputs": [
    {
     "name": "stdout",
     "output_type": "stream",
     "text": [
      "<class 'pandas.core.frame.DataFrame'>\n",
      "RangeIndex: 35 entries, 0 to 34\n",
      "Data columns (total 10 columns):\n",
      " #   Column            Non-Null Count  Dtype         \n",
      "---  ------            --------------  -----         \n",
      " 0   date              35 non-null     datetime64[ns]\n",
      " 1   start_time        35 non-null     object        \n",
      " 2   finish_time       35 non-null     object        \n",
      " 3   writer            35 non-null     object        \n",
      " 4   book              35 non-null     object        \n",
      " 5   kind              35 non-null     object        \n",
      " 6   start_page        32 non-null     float64       \n",
      " 7   finish_page       32 non-null     float64       \n",
      " 8   summary_size      32 non-null     float64       \n",
      " 9   is_section_liked  35 non-null     int64         \n",
      "dtypes: datetime64[ns](1), float64(3), int64(1), object(5)\n",
      "memory usage: 2.9+ KB\n"
     ]
    }
   ],
   "source": [
    "run 3_Yeni_degisken_reading_pages.ipynb"
   ]
  },
  {
   "cell_type": "markdown",
   "metadata": {},
   "source": [
    "Şimdi finish_time dan start_time ı çıkararak kaç dakika okuduğumu bulmak istiyorum."
   ]
  },
  {
   "cell_type": "code",
   "execution_count": 25,
   "metadata": {},
   "outputs": [],
   "source": [
    "#df[\"finish_time\"] - df[\"start_time\"]   Hata veren kod.\n",
    "\n",
    "# Datetime.time objeleri arasında çıkartma işlemi yapmıyor, hata veriyor."
   ]
  },
  {
   "cell_type": "markdown",
   "metadata": {},
   "source": [
    "------\n",
    "Bahsettiğim çıkartmayı yapabilmek için başta tipi datetime.time olan \"start_time\" ve \"finish_time\"ı datetime'a çevirmem gerektiğini düşündüm niye böyle düşündüm bilmiyorum ancak hiç gerek yokmuş yine de hatamı silmiyorum kalsın ders alalım :)"
   ]
  },
  {
   "cell_type": "code",
   "execution_count": 26,
   "metadata": {},
   "outputs": [],
   "source": [
    "# Bahsettiğim hatam\n",
    "\n",
    "# df['start_time'] = pd.to_datetime(df['start_time'])"
   ]
  },
  {
   "cell_type": "markdown",
   "metadata": {},
   "source": [
    "---\n",
    "\n",
    "Sonrasında şu combine fonksiyonunu buldum, datetime.time'ı tek başına birbirinden çıkaramıyormuşuz, ilk başta gün ve saat olarak birleştirmek gerekiyor ve saat olarak değerleri kaymasın diye ikisine de, sonradan çıkarırken birbirlerini sıfırlasın diye aynı gün tarihini veriyoruz (date.today())."
   ]
  },
  {
   "cell_type": "code",
   "execution_count": 27,
   "metadata": {},
   "outputs": [],
   "source": [
    "from datetime import datetime\n",
    "\n",
    "## datetime.combine(date.today(), df[\"finish_time\"]) - datetime.combine(date.today(), df[\"start_time\"])"
   ]
  },
  {
   "cell_type": "markdown",
   "metadata": {},
   "source": [
    "df[\"finish_time\"] ya da df[\"start_ time\"] diyerek direkt olarak dizi olan, dataframe sütunu ile işlem yapmaya kalktık kabul etmedi, bu yüzden dataframein o sütunlarının tek tek satırlarıyla işlem yapmak gerekiyor yani df[finish_time][5] - df[start_time][5] gibi. Bunu da aşağıdaki gibi bir fonksiyonu stackoverflow'dan bir hayırseverin yardımıyla hallettim.\n",
    "\n",
    "---"
   ]
  },
  {
   "cell_type": "markdown",
   "metadata": {},
   "source": [
    "Hemen bir üstteki kodun çalışan versiyonu"
   ]
  },
  {
   "cell_type": "code",
   "execution_count": 28,
   "metadata": {},
   "outputs": [],
   "source": [
    "from datetime import date\n",
    "\n",
    "def reading_time(df):\n",
    "       return datetime.combine(date.today(), df[\"finish_time\"]) - datetime.combine(date.today(), df[\"start_time\"])\n",
    "\n",
    "df['reading_time'] = df.apply(reading_time, axis=1)"
   ]
  },
  {
   "cell_type": "code",
   "execution_count": 29,
   "metadata": {},
   "outputs": [
    {
     "data": {
      "text/html": [
       "<div>\n",
       "<style scoped>\n",
       "    .dataframe tbody tr th:only-of-type {\n",
       "        vertical-align: middle;\n",
       "    }\n",
       "\n",
       "    .dataframe tbody tr th {\n",
       "        vertical-align: top;\n",
       "    }\n",
       "\n",
       "    .dataframe thead th {\n",
       "        text-align: right;\n",
       "    }\n",
       "</style>\n",
       "<table border=\"1\" class=\"dataframe\">\n",
       "  <thead>\n",
       "    <tr style=\"text-align: right;\">\n",
       "      <th></th>\n",
       "      <th>date</th>\n",
       "      <th>start_time</th>\n",
       "      <th>finish_time</th>\n",
       "      <th>writer</th>\n",
       "      <th>book</th>\n",
       "      <th>kind</th>\n",
       "      <th>start_page</th>\n",
       "      <th>finish_page</th>\n",
       "      <th>summary_size</th>\n",
       "      <th>is_section_liked</th>\n",
       "      <th>read_pages</th>\n",
       "      <th>reading_time</th>\n",
       "    </tr>\n",
       "  </thead>\n",
       "  <tbody>\n",
       "    <tr>\n",
       "      <th>30</th>\n",
       "      <td>2020-06-15</td>\n",
       "      <td>16:00:00</td>\n",
       "      <td>17:00:00</td>\n",
       "      <td>Dostoyevski</td>\n",
       "      <td>Suc ve Ceza</td>\n",
       "      <td>roman</td>\n",
       "      <td>253</td>\n",
       "      <td>296</td>\n",
       "      <td>11</td>\n",
       "      <td>True</td>\n",
       "      <td>43</td>\n",
       "      <td>01:00:00</td>\n",
       "    </tr>\n",
       "    <tr>\n",
       "      <th>31</th>\n",
       "      <td>2020-06-16</td>\n",
       "      <td>21:00:00</td>\n",
       "      <td>22:00:00</td>\n",
       "      <td>Dostoyevski</td>\n",
       "      <td>Suc ve Ceza</td>\n",
       "      <td>roman</td>\n",
       "      <td>297</td>\n",
       "      <td>334</td>\n",
       "      <td>26</td>\n",
       "      <td>True</td>\n",
       "      <td>37</td>\n",
       "      <td>01:00:00</td>\n",
       "    </tr>\n",
       "    <tr>\n",
       "      <th>32</th>\n",
       "      <td>2020-06-16</td>\n",
       "      <td>22:15:00</td>\n",
       "      <td>22:45:00</td>\n",
       "      <td>Platon</td>\n",
       "      <td>Sokratesin Savunmasi</td>\n",
       "      <td>felsefik</td>\n",
       "      <td>40</td>\n",
       "      <td>59</td>\n",
       "      <td>31</td>\n",
       "      <td>True</td>\n",
       "      <td>19</td>\n",
       "      <td>00:30:00</td>\n",
       "    </tr>\n",
       "    <tr>\n",
       "      <th>33</th>\n",
       "      <td>2020-06-17</td>\n",
       "      <td>16:00:00</td>\n",
       "      <td>16:30:00</td>\n",
       "      <td>Platon</td>\n",
       "      <td>Sokratesin Savunmasi</td>\n",
       "      <td>felsefik</td>\n",
       "      <td>60</td>\n",
       "      <td>76</td>\n",
       "      <td>40</td>\n",
       "      <td>True</td>\n",
       "      <td>16</td>\n",
       "      <td>00:30:00</td>\n",
       "    </tr>\n",
       "    <tr>\n",
       "      <th>34</th>\n",
       "      <td>2020-06-17</td>\n",
       "      <td>21:45:00</td>\n",
       "      <td>22:55:00</td>\n",
       "      <td>Dostoyevski</td>\n",
       "      <td>Suc ve Ceza</td>\n",
       "      <td>roman</td>\n",
       "      <td>335</td>\n",
       "      <td>381</td>\n",
       "      <td>38</td>\n",
       "      <td>True</td>\n",
       "      <td>46</td>\n",
       "      <td>01:10:00</td>\n",
       "    </tr>\n",
       "  </tbody>\n",
       "</table>\n",
       "</div>"
      ],
      "text/plain": [
       "         date start_time finish_time       writer                  book  \\\n",
       "30 2020-06-15   16:00:00    17:00:00  Dostoyevski           Suc ve Ceza   \n",
       "31 2020-06-16   21:00:00    22:00:00  Dostoyevski           Suc ve Ceza   \n",
       "32 2020-06-16   22:15:00    22:45:00       Platon  Sokratesin Savunmasi   \n",
       "33 2020-06-17   16:00:00    16:30:00       Platon  Sokratesin Savunmasi   \n",
       "34 2020-06-17   21:45:00    22:55:00  Dostoyevski           Suc ve Ceza   \n",
       "\n",
       "        kind  start_page  finish_page  summary_size  is_section_liked  \\\n",
       "30     roman         253          296            11              True   \n",
       "31     roman         297          334            26              True   \n",
       "32  felsefik          40           59            31              True   \n",
       "33  felsefik          60           76            40              True   \n",
       "34     roman         335          381            38              True   \n",
       "\n",
       "    read_pages reading_time  \n",
       "30          43     01:00:00  \n",
       "31          37     01:00:00  \n",
       "32          19     00:30:00  \n",
       "33          16     00:30:00  \n",
       "34          46     01:10:00  "
      ]
     },
     "execution_count": 29,
     "metadata": {},
     "output_type": "execute_result"
    }
   ],
   "source": [
    "df.tail()\n",
    "#verisetine sürekli kuyruğundan bakıyorum çünkü başındaki değerlerde saat yok yani 00:00:00"
   ]
  },
  {
   "cell_type": "markdown",
   "metadata": {},
   "source": [
    "Görüldüğü üzere reading_time olarak kaç dk kitap okuduğum bilgisini ekledik ancak bunun tam sayı olarak dakika cinsinden olmasını istiyorum.\n",
    "\n",
    "---"
   ]
  },
  {
   "cell_type": "markdown",
   "metadata": {},
   "source": [
    "Şimdi de saat formatından integer olarak dakikaya dönsün istiyorum"
   ]
  },
  {
   "cell_type": "code",
   "execution_count": 30,
   "metadata": {},
   "outputs": [],
   "source": [
    "df[\"reading_time\"] = df[\"reading_time\"].dt.seconds.astype('int')"
   ]
  },
  {
   "cell_type": "code",
   "execution_count": 31,
   "metadata": {},
   "outputs": [
    {
     "data": {
      "text/plain": [
       "30    3600\n",
       "31    3600\n",
       "32    1800\n",
       "33    1800\n",
       "34    4200\n",
       "Name: reading_time, dtype: int64"
      ]
     },
     "execution_count": 31,
     "metadata": {},
     "output_type": "execute_result"
    }
   ],
   "source": [
    "df[\"reading_time\"].tail()"
   ]
  },
  {
   "cell_type": "markdown",
   "metadata": {},
   "source": [
    "Bu sefer de saniye oldu, bu yüzden hemen aşağıda 60a bölelim.\n",
    "\n",
    "---"
   ]
  },
  {
   "cell_type": "code",
   "execution_count": 32,
   "metadata": {},
   "outputs": [
    {
     "data": {
      "text/plain": [
       "30    60.0\n",
       "31    60.0\n",
       "32    30.0\n",
       "33    30.0\n",
       "34    70.0\n",
       "Name: reading_time, dtype: float64"
      ]
     },
     "execution_count": 32,
     "metadata": {},
     "output_type": "execute_result"
    }
   ],
   "source": [
    "df[\"reading_time\"] = df[\"reading_time\"]/60\n",
    "df[\"reading_time\"].tail()"
   ]
  },
  {
   "cell_type": "code",
   "execution_count": 33,
   "metadata": {},
   "outputs": [
    {
     "data": {
      "text/html": [
       "<div>\n",
       "<style scoped>\n",
       "    .dataframe tbody tr th:only-of-type {\n",
       "        vertical-align: middle;\n",
       "    }\n",
       "\n",
       "    .dataframe tbody tr th {\n",
       "        vertical-align: top;\n",
       "    }\n",
       "\n",
       "    .dataframe thead th {\n",
       "        text-align: right;\n",
       "    }\n",
       "</style>\n",
       "<table border=\"1\" class=\"dataframe\">\n",
       "  <thead>\n",
       "    <tr style=\"text-align: right;\">\n",
       "      <th></th>\n",
       "      <th>date</th>\n",
       "      <th>start_time</th>\n",
       "      <th>finish_time</th>\n",
       "      <th>writer</th>\n",
       "      <th>book</th>\n",
       "      <th>kind</th>\n",
       "      <th>start_page</th>\n",
       "      <th>finish_page</th>\n",
       "      <th>summary_size</th>\n",
       "      <th>is_section_liked</th>\n",
       "      <th>read_pages</th>\n",
       "      <th>reading_time</th>\n",
       "    </tr>\n",
       "  </thead>\n",
       "  <tbody>\n",
       "    <tr>\n",
       "      <th>30</th>\n",
       "      <td>2020-06-15</td>\n",
       "      <td>16:00:00</td>\n",
       "      <td>17:00:00</td>\n",
       "      <td>Dostoyevski</td>\n",
       "      <td>Suc ve Ceza</td>\n",
       "      <td>roman</td>\n",
       "      <td>253</td>\n",
       "      <td>296</td>\n",
       "      <td>11</td>\n",
       "      <td>True</td>\n",
       "      <td>43</td>\n",
       "      <td>60</td>\n",
       "    </tr>\n",
       "    <tr>\n",
       "      <th>31</th>\n",
       "      <td>2020-06-16</td>\n",
       "      <td>21:00:00</td>\n",
       "      <td>22:00:00</td>\n",
       "      <td>Dostoyevski</td>\n",
       "      <td>Suc ve Ceza</td>\n",
       "      <td>roman</td>\n",
       "      <td>297</td>\n",
       "      <td>334</td>\n",
       "      <td>26</td>\n",
       "      <td>True</td>\n",
       "      <td>37</td>\n",
       "      <td>60</td>\n",
       "    </tr>\n",
       "    <tr>\n",
       "      <th>32</th>\n",
       "      <td>2020-06-16</td>\n",
       "      <td>22:15:00</td>\n",
       "      <td>22:45:00</td>\n",
       "      <td>Platon</td>\n",
       "      <td>Sokratesin Savunmasi</td>\n",
       "      <td>felsefik</td>\n",
       "      <td>40</td>\n",
       "      <td>59</td>\n",
       "      <td>31</td>\n",
       "      <td>True</td>\n",
       "      <td>19</td>\n",
       "      <td>30</td>\n",
       "    </tr>\n",
       "    <tr>\n",
       "      <th>33</th>\n",
       "      <td>2020-06-17</td>\n",
       "      <td>16:00:00</td>\n",
       "      <td>16:30:00</td>\n",
       "      <td>Platon</td>\n",
       "      <td>Sokratesin Savunmasi</td>\n",
       "      <td>felsefik</td>\n",
       "      <td>60</td>\n",
       "      <td>76</td>\n",
       "      <td>40</td>\n",
       "      <td>True</td>\n",
       "      <td>16</td>\n",
       "      <td>30</td>\n",
       "    </tr>\n",
       "    <tr>\n",
       "      <th>34</th>\n",
       "      <td>2020-06-17</td>\n",
       "      <td>21:45:00</td>\n",
       "      <td>22:55:00</td>\n",
       "      <td>Dostoyevski</td>\n",
       "      <td>Suc ve Ceza</td>\n",
       "      <td>roman</td>\n",
       "      <td>335</td>\n",
       "      <td>381</td>\n",
       "      <td>38</td>\n",
       "      <td>True</td>\n",
       "      <td>46</td>\n",
       "      <td>70</td>\n",
       "    </tr>\n",
       "  </tbody>\n",
       "</table>\n",
       "</div>"
      ],
      "text/plain": [
       "         date start_time finish_time       writer                  book  \\\n",
       "30 2020-06-15   16:00:00    17:00:00  Dostoyevski           Suc ve Ceza   \n",
       "31 2020-06-16   21:00:00    22:00:00  Dostoyevski           Suc ve Ceza   \n",
       "32 2020-06-16   22:15:00    22:45:00       Platon  Sokratesin Savunmasi   \n",
       "33 2020-06-17   16:00:00    16:30:00       Platon  Sokratesin Savunmasi   \n",
       "34 2020-06-17   21:45:00    22:55:00  Dostoyevski           Suc ve Ceza   \n",
       "\n",
       "        kind  start_page  finish_page  summary_size  is_section_liked  \\\n",
       "30     roman         253          296            11              True   \n",
       "31     roman         297          334            26              True   \n",
       "32  felsefik          40           59            31              True   \n",
       "33  felsefik          60           76            40              True   \n",
       "34     roman         335          381            38              True   \n",
       "\n",
       "    read_pages  reading_time  \n",
       "30          43            60  \n",
       "31          37            60  \n",
       "32          19            30  \n",
       "33          16            30  \n",
       "34          46            70  "
      ]
     },
     "execution_count": 33,
     "metadata": {},
     "output_type": "execute_result"
    }
   ],
   "source": [
    "# Float olan reading_time'ı integer'a çevirelim\n",
    "\n",
    "df['reading_time'] = df['reading_time'].astype('int')\n",
    "df.tail()"
   ]
  },
  {
   "cell_type": "code",
   "execution_count": null,
   "metadata": {},
   "outputs": [],
   "source": []
  }
 ],
 "metadata": {
  "kernelspec": {
   "display_name": "Python 3",
   "language": "python",
   "name": "python3"
  },
  "language_info": {
   "codemirror_mode": {
    "name": "ipython",
    "version": 3
   },
   "file_extension": ".py",
   "mimetype": "text/x-python",
   "name": "python",
   "nbconvert_exporter": "python",
   "pygments_lexer": "ipython3",
   "version": "3.7.6"
  }
 },
 "nbformat": 4,
 "nbformat_minor": 4
}
