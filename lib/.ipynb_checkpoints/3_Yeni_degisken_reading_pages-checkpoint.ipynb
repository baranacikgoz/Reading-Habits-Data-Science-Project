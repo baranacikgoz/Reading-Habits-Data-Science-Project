{
 "cells": [
  {
   "cell_type": "markdown",
   "metadata": {},
   "source": [
    "### Önceki veriler ile kaç sayfa kitap okuduğumu gösteren yeni bir değişken oluşturup dataframe'e sütun olarak ekleyelim\n"
   ]
  },
  {
   "cell_type": "code",
   "execution_count": 34,
   "metadata": {
    "collapsed": true,
    "jupyter": {
     "outputs_hidden": true
    }
   },
   "outputs": [
    {
     "name": "stdout",
     "output_type": "stream",
     "text": [
      "<class 'pandas.core.frame.DataFrame'>\n",
      "RangeIndex: 35 entries, 0 to 34\n",
      "Data columns (total 10 columns):\n",
      " #   Column            Non-Null Count  Dtype         \n",
      "---  ------            --------------  -----         \n",
      " 0   date              35 non-null     datetime64[ns]\n",
      " 1   start_time        35 non-null     object        \n",
      " 2   finish_time       35 non-null     object        \n",
      " 3   writer            35 non-null     object        \n",
      " 4   book              35 non-null     object        \n",
      " 5   kind              35 non-null     object        \n",
      " 6   start_page        32 non-null     float64       \n",
      " 7   finish_page       32 non-null     float64       \n",
      " 8   summary_size      32 non-null     float64       \n",
      " 9   is_section_liked  35 non-null     int64         \n",
      "dtypes: datetime64[ns](1), float64(3), int64(1), object(5)\n",
      "memory usage: 2.9+ KB\n"
     ]
    }
   ],
   "source": [
    "%run 2_Degiskenlerin_tip_donusumleri_.ipynb"
   ]
  },
  {
   "cell_type": "markdown",
   "metadata": {},
   "source": [
    "---\n",
    "\n",
    "#### Şimdi, okumayı bitirdiğim sayfa numarasından, başladığımı çıkarıp kaç sayfa okuduğumu gösteren bir değişken oluşturmak istiyorum."
   ]
  },
  {
   "cell_type": "code",
   "execution_count": 35,
   "metadata": {},
   "outputs": [],
   "source": [
    "read_pages = df[\"finish_page\"] - df[\"start_page\"]"
   ]
  },
  {
   "cell_type": "code",
   "execution_count": 36,
   "metadata": {},
   "outputs": [],
   "source": [
    "# Şimdi bulduğumuz bu sayıları \"read_pages\" adı altında yeni bir kolon olarak ekleyelim\n",
    "\n",
    "df[\"read_pages\"] = read_pages"
   ]
  },
  {
   "cell_type": "code",
   "execution_count": 37,
   "metadata": {},
   "outputs": [
    {
     "data": {
      "text/html": [
       "<div>\n",
       "<style scoped>\n",
       "    .dataframe tbody tr th:only-of-type {\n",
       "        vertical-align: middle;\n",
       "    }\n",
       "\n",
       "    .dataframe tbody tr th {\n",
       "        vertical-align: top;\n",
       "    }\n",
       "\n",
       "    .dataframe thead th {\n",
       "        text-align: right;\n",
       "    }\n",
       "</style>\n",
       "<table border=\"1\" class=\"dataframe\">\n",
       "  <thead>\n",
       "    <tr style=\"text-align: right;\">\n",
       "      <th></th>\n",
       "      <th>date</th>\n",
       "      <th>start_time</th>\n",
       "      <th>finish_time</th>\n",
       "      <th>writer</th>\n",
       "      <th>book</th>\n",
       "      <th>kind</th>\n",
       "      <th>start_page</th>\n",
       "      <th>finish_page</th>\n",
       "      <th>summary_size</th>\n",
       "      <th>is_section_liked</th>\n",
       "      <th>read_pages</th>\n",
       "    </tr>\n",
       "  </thead>\n",
       "  <tbody>\n",
       "    <tr>\n",
       "      <th>0</th>\n",
       "      <td>2020-05-03</td>\n",
       "      <td>00:00:00</td>\n",
       "      <td>00:00:00</td>\n",
       "      <td>J.P. Sartre</td>\n",
       "      <td>Bulanti</td>\n",
       "      <td>felsefik</td>\n",
       "      <td>15</td>\n",
       "      <td>38</td>\n",
       "      <td>68</td>\n",
       "      <td>True</td>\n",
       "      <td>23</td>\n",
       "    </tr>\n",
       "    <tr>\n",
       "      <th>1</th>\n",
       "      <td>2020-03-09</td>\n",
       "      <td>00:00:00</td>\n",
       "      <td>00:00:00</td>\n",
       "      <td>J.P. Sartre</td>\n",
       "      <td>Bulanti</td>\n",
       "      <td>felsefik</td>\n",
       "      <td>39</td>\n",
       "      <td>75</td>\n",
       "      <td>73</td>\n",
       "      <td>True</td>\n",
       "      <td>36</td>\n",
       "    </tr>\n",
       "    <tr>\n",
       "      <th>2</th>\n",
       "      <td>2020-03-11</td>\n",
       "      <td>00:00:00</td>\n",
       "      <td>00:00:00</td>\n",
       "      <td>J.P. Sartre</td>\n",
       "      <td>Bulanti</td>\n",
       "      <td>felsefik</td>\n",
       "      <td>75</td>\n",
       "      <td>105</td>\n",
       "      <td>50</td>\n",
       "      <td>True</td>\n",
       "      <td>30</td>\n",
       "    </tr>\n",
       "    <tr>\n",
       "      <th>3</th>\n",
       "      <td>2020-03-11</td>\n",
       "      <td>00:00:00</td>\n",
       "      <td>00:00:00</td>\n",
       "      <td>Thomas More</td>\n",
       "      <td>Utopya</td>\n",
       "      <td>utopik</td>\n",
       "      <td>3</td>\n",
       "      <td>26</td>\n",
       "      <td>91</td>\n",
       "      <td>True</td>\n",
       "      <td>23</td>\n",
       "    </tr>\n",
       "    <tr>\n",
       "      <th>4</th>\n",
       "      <td>2020-03-22</td>\n",
       "      <td>00:00:00</td>\n",
       "      <td>00:00:00</td>\n",
       "      <td>J.P. Sartre</td>\n",
       "      <td>Bulanti</td>\n",
       "      <td>felsefik</td>\n",
       "      <td>106</td>\n",
       "      <td>134</td>\n",
       "      <td>27</td>\n",
       "      <td>True</td>\n",
       "      <td>28</td>\n",
       "    </tr>\n",
       "  </tbody>\n",
       "</table>\n",
       "</div>"
      ],
      "text/plain": [
       "        date start_time finish_time       writer     book      kind  \\\n",
       "0 2020-05-03   00:00:00    00:00:00  J.P. Sartre  Bulanti  felsefik   \n",
       "1 2020-03-09   00:00:00    00:00:00  J.P. Sartre  Bulanti  felsefik   \n",
       "2 2020-03-11   00:00:00    00:00:00  J.P. Sartre  Bulanti  felsefik   \n",
       "3 2020-03-11   00:00:00    00:00:00  Thomas More   Utopya    utopik   \n",
       "4 2020-03-22   00:00:00    00:00:00  J.P. Sartre  Bulanti  felsefik   \n",
       "\n",
       "   start_page  finish_page  summary_size  is_section_liked  read_pages  \n",
       "0          15           38            68              True          23  \n",
       "1          39           75            73              True          36  \n",
       "2          75          105            50              True          30  \n",
       "3           3           26            91              True          23  \n",
       "4         106          134            27              True          28  "
      ]
     },
     "execution_count": 37,
     "metadata": {},
     "output_type": "execute_result"
    }
   ],
   "source": [
    "df.head()"
   ]
  },
  {
   "cell_type": "code",
   "execution_count": 38,
   "metadata": {},
   "outputs": [
    {
     "data": {
      "text/plain": [
       "count    35.000000\n",
       "mean     22.514286\n",
       "std      14.691677\n",
       "min       0.000000\n",
       "25%      11.000000\n",
       "50%      23.000000\n",
       "75%      32.500000\n",
       "max      57.000000\n",
       "Name: read_pages, dtype: float64"
      ]
     },
     "execution_count": 38,
     "metadata": {},
     "output_type": "execute_result"
    }
   ],
   "source": [
    "# okuduğum sayfanın istatistiki özelliklerine bakalım\n",
    "df[\"read_pages\"].describe()"
   ]
  },
  {
   "cell_type": "markdown",
   "metadata": {},
   "source": [
    "------"
   ]
  }
 ],
 "metadata": {
  "kernelspec": {
   "display_name": "Python 3",
   "language": "python",
   "name": "python3"
  },
  "language_info": {
   "codemirror_mode": {
    "name": "ipython",
    "version": 3
   },
   "file_extension": ".py",
   "mimetype": "text/x-python",
   "name": "python",
   "nbconvert_exporter": "python",
   "pygments_lexer": "ipython3",
   "version": "3.7.6"
  }
 },
 "nbformat": 4,
 "nbformat_minor": 4
}
