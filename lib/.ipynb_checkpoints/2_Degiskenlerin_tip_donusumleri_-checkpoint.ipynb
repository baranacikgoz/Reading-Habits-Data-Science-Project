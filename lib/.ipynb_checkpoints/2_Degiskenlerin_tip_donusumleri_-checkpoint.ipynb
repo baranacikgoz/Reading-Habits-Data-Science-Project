{
 "cells": [
  {
   "cell_type": "markdown",
   "metadata": {},
   "source": [
    "## Değişkenleri istediğimiz türlere dönüştürelim"
   ]
  },
  {
   "cell_type": "markdown",
   "metadata": {},
   "source": [
    "İlk önce aşağıdaki kod ile chapter_1 i olduğu gibi çalıştırıp altından devam edeceğiz."
   ]
  },
  {
   "cell_type": "code",
   "execution_count": 32,
   "metadata": {
    "collapsed": true,
    "jupyter": {
     "outputs_hidden": true
    }
   },
   "outputs": [
    {
     "name": "stdout",
     "output_type": "stream",
     "text": [
      "<class 'pandas.core.frame.DataFrame'>\n",
      "RangeIndex: 35 entries, 0 to 34\n",
      "Data columns (total 10 columns):\n",
      " #   Column            Non-Null Count  Dtype         \n",
      "---  ------            --------------  -----         \n",
      " 0   date              35 non-null     datetime64[ns]\n",
      " 1   start_time        35 non-null     object        \n",
      " 2   finish_time       35 non-null     object        \n",
      " 3   writer            35 non-null     object        \n",
      " 4   book              35 non-null     object        \n",
      " 5   kind              35 non-null     object        \n",
      " 6   start_page        32 non-null     float64       \n",
      " 7   finish_page       32 non-null     float64       \n",
      " 8   summary_size      32 non-null     float64       \n",
      " 9   is_section_liked  35 non-null     int64         \n",
      "dtypes: datetime64[ns](1), float64(3), int64(1), object(5)\n",
      "memory usage: 2.9+ KB\n"
     ]
    }
   ],
   "source": [
    "%run 1_Verisetini_taniyalim.ipynb"
   ]
  },
  {
   "cell_type": "code",
   "execution_count": 33,
   "metadata": {},
   "outputs": [
    {
     "data": {
      "text/plain": [
       "date                datetime64[ns]\n",
       "start_time                  object\n",
       "finish_time                 object\n",
       "writer                      object\n",
       "book                        object\n",
       "kind                        object\n",
       "start_page                 float64\n",
       "finish_page                float64\n",
       "summary_size               float64\n",
       "is_section_liked             int64\n",
       "dtype: object"
      ]
     },
     "execution_count": 33,
     "metadata": {},
     "output_type": "execute_result"
    }
   ],
   "source": [
    "df.dtypes"
   ]
  },
  {
   "cell_type": "code",
   "execution_count": 34,
   "metadata": {},
   "outputs": [
    {
     "data": {
      "text/plain": [
       "date                datetime64[ns]\n",
       "start_time                  object\n",
       "finish_time                 object\n",
       "writer                      object\n",
       "book                        object\n",
       "kind                        object\n",
       "start_page                 float64\n",
       "finish_page                float64\n",
       "summary_size               float64\n",
       "is_section_liked              bool\n",
       "dtype: object"
      ]
     },
     "execution_count": 34,
     "metadata": {},
     "output_type": "execute_result"
    }
   ],
   "source": [
    "# is_section_liked değişkenini integerdan booleana çevirelim\n",
    "df['is_section_liked'] = df['is_section_liked'].astype('bool')\n",
    "df.dtypes"
   ]
  },
  {
   "cell_type": "markdown",
   "metadata": {},
   "source": [
    "--"
   ]
  },
  {
   "cell_type": "markdown",
   "metadata": {},
   "source": [
    "#### Değerler arası tip dönüşümlerine devam etmem gerekiyor ancak eksik veri varken yapmıyor, bu sebeple tüm eksik veriler yerine -1 yazacağım, saat verisi olarak boş olanlara sonradan 00:00:00 bastığımda hata alıyordum bu yüzden excelden yazdım tek tek :(."
   ]
  },
  {
   "cell_type": "code",
   "execution_count": 35,
   "metadata": {},
   "outputs": [],
   "source": [
    "# Eğer excelde kendim 00 diye yazmasaydım saatler için bu kodları kullanacaktık.\n",
    "\n",
    "## df[\"start_time\"].fillna(\"00:00:00\", inplace = True)\n",
    "## df[\"finish_time\"].fillna(\"00:00:00\", inplace = True)"
   ]
  },
  {
   "cell_type": "code",
   "execution_count": 36,
   "metadata": {},
   "outputs": [],
   "source": [
    "# Tüm boş sayısal değerlere -1 basıyoruz\n",
    "\n",
    "df.fillna(-1, inplace = True)"
   ]
  },
  {
   "cell_type": "code",
   "execution_count": 37,
   "metadata": {},
   "outputs": [
    {
     "data": {
      "text/plain": [
       "False"
      ]
     },
     "execution_count": 37,
     "metadata": {},
     "output_type": "execute_result"
    }
   ],
   "source": [
    "#hiç eksik gözlem(değer) var mı\n",
    "df.isnull().values.any()"
   ]
  },
  {
   "cell_type": "markdown",
   "metadata": {},
   "source": [
    "Eksik değerleri doldurduk, şimdi dönüşümlere devam edebiliriz."
   ]
  },
  {
   "cell_type": "code",
   "execution_count": 38,
   "metadata": {},
   "outputs": [
    {
     "data": {
      "text/plain": [
       "date                datetime64[ns]\n",
       "start_time                  object\n",
       "finish_time                 object\n",
       "writer                      object\n",
       "book                        object\n",
       "kind                        object\n",
       "start_page                   int64\n",
       "finish_page                  int64\n",
       "summary_size                 int64\n",
       "is_section_liked              bool\n",
       "dtype: object"
      ]
     },
     "execution_count": 38,
     "metadata": {},
     "output_type": "execute_result"
    }
   ],
   "source": [
    "# start_page, finish_page ve summary_size  değişkenlerini integer yapmak istiyorum\n",
    "df['start_page'] = df['start_page'].astype('int')\n",
    "df['finish_page'] = df['finish_page'].astype('int')\n",
    "df['summary_size'] = df['summary_size'].astype('int')\n",
    "df.dtypes"
   ]
  },
  {
   "cell_type": "markdown",
   "metadata": {},
   "source": [
    "---\n",
    "\n",
    "Şimdi de writer, kind ve book değişkenlerinin kategorik değişken (category) olmasını istiyorum."
   ]
  },
  {
   "cell_type": "code",
   "execution_count": 39,
   "metadata": {},
   "outputs": [
    {
     "data": {
      "text/plain": [
       "date                datetime64[ns]\n",
       "start_time                  object\n",
       "finish_time                 object\n",
       "writer                    category\n",
       "book                      category\n",
       "kind                      category\n",
       "start_page                   int64\n",
       "finish_page                  int64\n",
       "summary_size                 int64\n",
       "is_section_liked              bool\n",
       "dtype: object"
      ]
     },
     "execution_count": 39,
     "metadata": {},
     "output_type": "execute_result"
    }
   ],
   "source": [
    "#üstte yaptığımızın aksine bu sefer tek tek değil de hepsini bir satır kodda yapalım.\n",
    "\n",
    "df[['writer', 'kind', 'book']] = df[['writer', 'kind', 'book']].astype('category')\n",
    "df.dtypes"
   ]
  },
  {
   "cell_type": "code",
   "execution_count": null,
   "metadata": {},
   "outputs": [],
   "source": []
  }
 ],
 "metadata": {
  "kernelspec": {
   "display_name": "Python 3",
   "language": "python",
   "name": "python3"
  },
  "language_info": {
   "codemirror_mode": {
    "name": "ipython",
    "version": 3
   },
   "file_extension": ".py",
   "mimetype": "text/x-python",
   "name": "python",
   "nbconvert_exporter": "python",
   "pygments_lexer": "ipython3",
   "version": "3.7.6"
  }
 },
 "nbformat": 4,
 "nbformat_minor": 4
}
